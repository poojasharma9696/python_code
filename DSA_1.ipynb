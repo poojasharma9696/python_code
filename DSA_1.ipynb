{
 "cells": [
  {
   "cell_type": "code",
   "execution_count": 1,
   "id": "a8211a5c",
   "metadata": {},
   "outputs": [],
   "source": [
    "def find_majority_element(nums):\n",
    "    count = 0\n",
    "    candidate = None\n",
    "\n",
    "    for num in nums:\n",
    "        if count == 0:\n",
    "            candidate = num\n",
    "\n",
    "        if num == candidate:\n",
    "            count += 1\n",
    "        else:\n",
    "            count -= 1\n",
    "\n",
    "    # Verify if the candidate is the majority element\n",
    "    count = 0\n",
    "    for num in nums:\n",
    "        if num == candidate:\n",
    "            count += 1\n",
    "\n",
    "    if count > len(nums) // 2:\n",
    "        return candidate\n",
    "    else:\n",
    "        return -1"
   ]
  },
  {
   "cell_type": "code",
   "execution_count": 2,
   "id": "6bb4784a",
   "metadata": {},
   "outputs": [
    {
     "name": "stdout",
     "output_type": "stream",
     "text": [
      "5\n"
     ]
    }
   ],
   "source": [
    "nums = [2, 4, 5, 5, 5, 5, 5]\n",
    "result = find_majority_element(nums)\n",
    "print(result)"
   ]
  }
 ],
 "metadata": {
  "kernelspec": {
   "display_name": "Python 3 (ipykernel)",
   "language": "python",
   "name": "python3"
  },
  "language_info": {
   "codemirror_mode": {
    "name": "ipython",
    "version": 3
   },
   "file_extension": ".py",
   "mimetype": "text/x-python",
   "name": "python",
   "nbconvert_exporter": "python",
   "pygments_lexer": "ipython3",
   "version": "3.10.9"
  }
 },
 "nbformat": 4,
 "nbformat_minor": 5
}
